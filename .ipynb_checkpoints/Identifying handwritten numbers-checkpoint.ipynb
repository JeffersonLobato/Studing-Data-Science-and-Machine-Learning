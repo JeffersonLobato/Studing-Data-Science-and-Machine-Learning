{
 "cells": [
  {
   "cell_type": "markdown",
   "id": "cb6b9995-1cb0-4af5-94cd-f974b5b16941",
   "metadata": {},
   "source": [
    "<h1>Identifying handwritten numbers</h1>\n",
    "\n",
    "<p>In this project, we will create a model based on classification models to identify handwritten numbers.</p>"
   ]
  },
  {
   "cell_type": "markdown",
   "id": "a8a1e2ad-6b72-49b8-b915-22af343e4ce5",
   "metadata": {
    "tags": []
   },
   "source": [
    "<h2>Fundamentals of Classification Models</h2>\n",
    "\n",
    "<p>Classification models are a type of machine learning algorithm used to categorize data into different classes or groups based on certain features or characteristics. These models are commonly used in various industries such as healthcare, finance, and marketing, where accurate categorization of data is crucial for decision-making.\n",
    "\n",
    "There are various types of classification models, including Decision Trees, Naive Bayes, Logistic Regression, and Support Vector Machines (SVM). Each model uses a different approach to classify data and can be selected based on the nature of the data and the project objective. The model training process involves using a training dataset to adjust the model parameters and a test dataset to evaluate its accuracy in classifying new data.</p>"
   ]
  },
  {
   "cell_type": "markdown",
   "id": "e1bd710d-12de-4a8e-905b-7fa6640fde08",
   "metadata": {},
   "source": [
    "<h3>MNIST dataset</h3>\n",
    "\n",
    "<p>The MNIST dataset is a collection of handwritten digit images that is widely used as a benchmark for machine learning algorithms, particularly in image recognition tasks. The dataset consists of 60,000 training and 10,000 testing images of handwritten digits from 0 to 9, all in grayscale and normalized to a size of 28x28 pixels. MNIST is often used as a starting point for beginners in machine learning to develop and test image classification algorithms.</p>"
   ]
  },
  {
   "cell_type": "code",
   "execution_count": 3,
   "id": "6522b929-1008-4622-a1ba-3e1a946f5fcd",
   "metadata": {},
   "outputs": [],
   "source": [
    "import matplotlib.pyplot as plt\n",
    "import seaborn as sns\n",
    "import numpy as np\n",
    "import pandas as pd\n",
    "\n",
    "from sklearn.datasets import fetch_openml"
   ]
  },
  {
   "cell_type": "code",
   "execution_count": 4,
   "id": "c890cdb4-df35-44b9-bda2-0562e40a08af",
   "metadata": {},
   "outputs": [],
   "source": [
    "#using the scikit-learn library to fetch the MNIST dataset\n",
    "#of handwritten digit images, which consists of 70,000 images and their corresponding labels.\n",
    "\n",
    "mnist = fetch_openml('mnist_784', version=1)"
   ]
  },
  {
   "cell_type": "code",
   "execution_count": 7,
   "id": "cfc2d643-92d0-40b2-b25d-68804df644ab",
   "metadata": {},
   "outputs": [
    {
     "data": {
      "text/plain": [
       "dict_keys(['data', 'target', 'frame', 'feature_names', 'target_names', 'DESCR', 'details', 'categories', 'url'])"
      ]
     },
     "execution_count": 7,
     "metadata": {},
     "output_type": "execute_result"
    }
   ],
   "source": [
    "#It is a dictionary\n",
    "\n",
    "mnist.keys()"
   ]
  },
  {
   "cell_type": "markdown",
   "id": "9fbbf964-6128-458d-82f1-7cf140ddeb24",
   "metadata": {},
   "source": [
    "<h4>To get an idea of what the data is about, we will insert 'data' as a dataframe for a variable x and 'target' for a variable y. By doing this, we will notice that each column of x, out of 784 columns, corresponds to 1 pixel, meaning each row corresponds to a 28x28 image, while y has the number that the image in x represents on each row.</h4>"
   ]
  },
  {
   "cell_type": "code",
   "execution_count": 22,
   "id": "0c1b0add-eb04-4783-86c1-412140e65a0e",
   "metadata": {},
   "outputs": [],
   "source": [
    "x, y = pd.DataFrame(mnist[\"data\"]), pd.DataFrame(mnist[\"target\"])"
   ]
  },
  {
   "cell_type": "code",
   "execution_count": 20,
   "id": "98744a17-058d-46ad-a72f-aff106c7ad98",
   "metadata": {},
   "outputs": [
    {
     "data": {
      "text/html": [
       "<div>\n",
       "<style scoped>\n",
       "    .dataframe tbody tr th:only-of-type {\n",
       "        vertical-align: middle;\n",
       "    }\n",
       "\n",
       "    .dataframe tbody tr th {\n",
       "        vertical-align: top;\n",
       "    }\n",
       "\n",
       "    .dataframe thead th {\n",
       "        text-align: right;\n",
       "    }\n",
       "</style>\n",
       "<table border=\"1\" class=\"dataframe\">\n",
       "  <thead>\n",
       "    <tr style=\"text-align: right;\">\n",
       "      <th></th>\n",
       "      <th>0</th>\n",
       "      <th>1</th>\n",
       "      <th>2</th>\n",
       "      <th>3</th>\n",
       "      <th>4</th>\n",
       "      <th>5</th>\n",
       "      <th>6</th>\n",
       "      <th>7</th>\n",
       "      <th>8</th>\n",
       "      <th>9</th>\n",
       "      <th>...</th>\n",
       "      <th>774</th>\n",
       "      <th>775</th>\n",
       "      <th>776</th>\n",
       "      <th>777</th>\n",
       "      <th>778</th>\n",
       "      <th>779</th>\n",
       "      <th>780</th>\n",
       "      <th>781</th>\n",
       "      <th>782</th>\n",
       "      <th>783</th>\n",
       "    </tr>\n",
       "  </thead>\n",
       "  <tbody>\n",
       "    <tr>\n",
       "      <th>0</th>\n",
       "      <td>0.0</td>\n",
       "      <td>0.0</td>\n",
       "      <td>0.0</td>\n",
       "      <td>0.0</td>\n",
       "      <td>0.0</td>\n",
       "      <td>0.0</td>\n",
       "      <td>0.0</td>\n",
       "      <td>0.0</td>\n",
       "      <td>0.0</td>\n",
       "      <td>0.0</td>\n",
       "      <td>...</td>\n",
       "      <td>0.0</td>\n",
       "      <td>0.0</td>\n",
       "      <td>0.0</td>\n",
       "      <td>0.0</td>\n",
       "      <td>0.0</td>\n",
       "      <td>0.0</td>\n",
       "      <td>0.0</td>\n",
       "      <td>0.0</td>\n",
       "      <td>0.0</td>\n",
       "      <td>0.0</td>\n",
       "    </tr>\n",
       "    <tr>\n",
       "      <th>1</th>\n",
       "      <td>0.0</td>\n",
       "      <td>0.0</td>\n",
       "      <td>0.0</td>\n",
       "      <td>0.0</td>\n",
       "      <td>0.0</td>\n",
       "      <td>0.0</td>\n",
       "      <td>0.0</td>\n",
       "      <td>0.0</td>\n",
       "      <td>0.0</td>\n",
       "      <td>0.0</td>\n",
       "      <td>...</td>\n",
       "      <td>0.0</td>\n",
       "      <td>0.0</td>\n",
       "      <td>0.0</td>\n",
       "      <td>0.0</td>\n",
       "      <td>0.0</td>\n",
       "      <td>0.0</td>\n",
       "      <td>0.0</td>\n",
       "      <td>0.0</td>\n",
       "      <td>0.0</td>\n",
       "      <td>0.0</td>\n",
       "    </tr>\n",
       "    <tr>\n",
       "      <th>2</th>\n",
       "      <td>0.0</td>\n",
       "      <td>0.0</td>\n",
       "      <td>0.0</td>\n",
       "      <td>0.0</td>\n",
       "      <td>0.0</td>\n",
       "      <td>0.0</td>\n",
       "      <td>0.0</td>\n",
       "      <td>0.0</td>\n",
       "      <td>0.0</td>\n",
       "      <td>0.0</td>\n",
       "      <td>...</td>\n",
       "      <td>0.0</td>\n",
       "      <td>0.0</td>\n",
       "      <td>0.0</td>\n",
       "      <td>0.0</td>\n",
       "      <td>0.0</td>\n",
       "      <td>0.0</td>\n",
       "      <td>0.0</td>\n",
       "      <td>0.0</td>\n",
       "      <td>0.0</td>\n",
       "      <td>0.0</td>\n",
       "    </tr>\n",
       "    <tr>\n",
       "      <th>3</th>\n",
       "      <td>0.0</td>\n",
       "      <td>0.0</td>\n",
       "      <td>0.0</td>\n",
       "      <td>0.0</td>\n",
       "      <td>0.0</td>\n",
       "      <td>0.0</td>\n",
       "      <td>0.0</td>\n",
       "      <td>0.0</td>\n",
       "      <td>0.0</td>\n",
       "      <td>0.0</td>\n",
       "      <td>...</td>\n",
       "      <td>0.0</td>\n",
       "      <td>0.0</td>\n",
       "      <td>0.0</td>\n",
       "      <td>0.0</td>\n",
       "      <td>0.0</td>\n",
       "      <td>0.0</td>\n",
       "      <td>0.0</td>\n",
       "      <td>0.0</td>\n",
       "      <td>0.0</td>\n",
       "      <td>0.0</td>\n",
       "    </tr>\n",
       "    <tr>\n",
       "      <th>4</th>\n",
       "      <td>0.0</td>\n",
       "      <td>0.0</td>\n",
       "      <td>0.0</td>\n",
       "      <td>0.0</td>\n",
       "      <td>0.0</td>\n",
       "      <td>0.0</td>\n",
       "      <td>0.0</td>\n",
       "      <td>0.0</td>\n",
       "      <td>0.0</td>\n",
       "      <td>0.0</td>\n",
       "      <td>...</td>\n",
       "      <td>0.0</td>\n",
       "      <td>0.0</td>\n",
       "      <td>0.0</td>\n",
       "      <td>0.0</td>\n",
       "      <td>0.0</td>\n",
       "      <td>0.0</td>\n",
       "      <td>0.0</td>\n",
       "      <td>0.0</td>\n",
       "      <td>0.0</td>\n",
       "      <td>0.0</td>\n",
       "    </tr>\n",
       "  </tbody>\n",
       "</table>\n",
       "<p>5 rows × 784 columns</p>\n",
       "</div>"
      ],
      "text/plain": [
       "   0    1    2    3    4    5    6    7    8    9    ...  774  775  776  777  \\\n",
       "0  0.0  0.0  0.0  0.0  0.0  0.0  0.0  0.0  0.0  0.0  ...  0.0  0.0  0.0  0.0   \n",
       "1  0.0  0.0  0.0  0.0  0.0  0.0  0.0  0.0  0.0  0.0  ...  0.0  0.0  0.0  0.0   \n",
       "2  0.0  0.0  0.0  0.0  0.0  0.0  0.0  0.0  0.0  0.0  ...  0.0  0.0  0.0  0.0   \n",
       "3  0.0  0.0  0.0  0.0  0.0  0.0  0.0  0.0  0.0  0.0  ...  0.0  0.0  0.0  0.0   \n",
       "4  0.0  0.0  0.0  0.0  0.0  0.0  0.0  0.0  0.0  0.0  ...  0.0  0.0  0.0  0.0   \n",
       "\n",
       "   778  779  780  781  782  783  \n",
       "0  0.0  0.0  0.0  0.0  0.0  0.0  \n",
       "1  0.0  0.0  0.0  0.0  0.0  0.0  \n",
       "2  0.0  0.0  0.0  0.0  0.0  0.0  \n",
       "3  0.0  0.0  0.0  0.0  0.0  0.0  \n",
       "4  0.0  0.0  0.0  0.0  0.0  0.0  \n",
       "\n",
       "[5 rows x 784 columns]"
      ]
     },
     "execution_count": 20,
     "metadata": {},
     "output_type": "execute_result"
    }
   ],
   "source": [
    "x.head()"
   ]
  },
  {
   "cell_type": "code",
   "execution_count": 21,
   "id": "559020ad-a7d1-44c0-a187-6034da801bdd",
   "metadata": {},
   "outputs": [
    {
     "data": {
      "text/html": [
       "<div>\n",
       "<style scoped>\n",
       "    .dataframe tbody tr th:only-of-type {\n",
       "        vertical-align: middle;\n",
       "    }\n",
       "\n",
       "    .dataframe tbody tr th {\n",
       "        vertical-align: top;\n",
       "    }\n",
       "\n",
       "    .dataframe thead th {\n",
       "        text-align: right;\n",
       "    }\n",
       "</style>\n",
       "<table border=\"1\" class=\"dataframe\">\n",
       "  <thead>\n",
       "    <tr style=\"text-align: right;\">\n",
       "      <th></th>\n",
       "      <th>0</th>\n",
       "    </tr>\n",
       "  </thead>\n",
       "  <tbody>\n",
       "    <tr>\n",
       "      <th>0</th>\n",
       "      <td>5</td>\n",
       "    </tr>\n",
       "    <tr>\n",
       "      <th>1</th>\n",
       "      <td>0</td>\n",
       "    </tr>\n",
       "    <tr>\n",
       "      <th>2</th>\n",
       "      <td>4</td>\n",
       "    </tr>\n",
       "    <tr>\n",
       "      <th>3</th>\n",
       "      <td>1</td>\n",
       "    </tr>\n",
       "    <tr>\n",
       "      <th>4</th>\n",
       "      <td>9</td>\n",
       "    </tr>\n",
       "  </tbody>\n",
       "</table>\n",
       "</div>"
      ],
      "text/plain": [
       "   0\n",
       "0  5\n",
       "1  0\n",
       "2  4\n",
       "3  1\n",
       "4  9"
      ]
     },
     "execution_count": 21,
     "metadata": {},
     "output_type": "execute_result"
    }
   ],
   "source": [
    "y.head()"
   ]
  },
  {
   "cell_type": "markdown",
   "id": "f0b561b8-4f3e-4a88-975c-cf9e025ed972",
   "metadata": {},
   "source": [
    "<h4>Now we will convert the data to array format and convert the y data to float, because we will not be working with the data in dataframe form, the dataframe was only used to have a better visualization of how the data is distributed.</h4>"
   ]
  },
  {
   "cell_type": "code",
   "execution_count": 23,
   "id": "5873b8f5-1d50-40d0-bcb5-e2ef177b9476",
   "metadata": {},
   "outputs": [],
   "source": [
    "x, y = x.values, y.values\n",
    "y = y.astype(np.float)"
   ]
  },
  {
   "cell_type": "code",
   "execution_count": 24,
   "id": "95779cf3-9cc3-4b46-8224-e048eac325e9",
   "metadata": {},
   "outputs": [
    {
     "data": {
      "text/plain": [
       "array([[0., 0., 0., ..., 0., 0., 0.],\n",
       "       [0., 0., 0., ..., 0., 0., 0.],\n",
       "       [0., 0., 0., ..., 0., 0., 0.],\n",
       "       ...,\n",
       "       [0., 0., 0., ..., 0., 0., 0.],\n",
       "       [0., 0., 0., ..., 0., 0., 0.],\n",
       "       [0., 0., 0., ..., 0., 0., 0.]])"
      ]
     },
     "execution_count": 24,
     "metadata": {},
     "output_type": "execute_result"
    }
   ],
   "source": [
    "x"
   ]
  },
  {
   "cell_type": "code",
   "execution_count": 25,
   "id": "eb74bd07-000e-46cd-beb8-d98ff3826d4f",
   "metadata": {},
   "outputs": [
    {
     "data": {
      "text/plain": [
       "array([[5.],\n",
       "       [0.],\n",
       "       [4.],\n",
       "       ...,\n",
       "       [4.],\n",
       "       [5.],\n",
       "       [6.]])"
      ]
     },
     "execution_count": 25,
     "metadata": {},
     "output_type": "execute_result"
    }
   ],
   "source": [
    "y"
   ]
  },
  {
   "cell_type": "markdown",
   "id": "5e0a398a-f17c-426e-9b21-a943edbbf43b",
   "metadata": {},
   "source": [
    "<h4>The command plt.imshow(x[0].reshape(28, 28), cmap='binary') is displaying the first image of the MNIST dataset in grayscale, with each pixel represented by a black or white square. The image is resized to have a size of 28x28 pixels and the option cmap='binary' is used to display the image in black and white.</h4>"
   ]
  },
  {
   "cell_type": "code",
   "execution_count": 35,
   "id": "5cd500bb-5918-4310-9fb3-33a3d898c3af",
   "metadata": {},
   "outputs": [
    {
     "name": "stdout",
     "output_type": "stream",
     "text": [
      "[5.]\n"
     ]
    },
    {
     "data": {
      "image/png": "[encoded data removed]",
      "text/plain": [
       "<Figure size 432x288 with 1 Axes>"
      ]
     },
     "metadata": {
      "needs_background": "light"
     },
     "output_type": "display_data"
    }
   ],
   "source": [
    "n = 0\n",
    "\n",
    "plt.imshow(x[n].reshape(28, 28), cmap='binary')\n",
    "print(y[n])\n",
    "plt.show()"
   ]
  },
  {
   "cell_type": "markdown",
   "id": "ca684cf8-8f6c-400e-b6e3-af3ff7b1bab5",
   "metadata": {},
   "source": [
    "<h4>To better understand what classification models are about, we will start by testing a simple model called binary classifier.</h4>\n",
    "\n",
    "<h4>A binary classifier is a machine learning model that aims to classify data into two distinct categories. This model receives input data and generates a binary output that represents the prediction for the category to which the data belongs. It is used in various applications, from sentiment analysis in texts to medical diagnosis. To train a binary classifier, it is necessary to use a dataset that already has the known categories so that the model can learn to perform the correct classification.</h4>\n",
    "\n",
    "<h4>With that, we will begin by training a model to simply determine whether an image is or is not a certain number.</h4>"
   ]
  },
  {
   "cell_type": "code",
   "execution_count": 36,
   "id": "c4b0867c-0081-48ea-b1bb-4ecfbf93da19",
   "metadata": {},
   "outputs": [],
   "source": [
    "from sklearn.model_selection import train_test_split\n",
    "\n",
    "x_train, x_test, y_train, y_test = train_test_split(x, y, test_size=0.3)"
   ]
  },
  {
   "cell_type": "markdown",
   "id": "99e95dbe-581b-4beb-8f43-b8faa0766d75",
   "metadata": {},
   "source": [
    "<h5>As an initial step, since we are using a binary classifier, I cannot use all classes of y. Therefore, we will choose 5 as an example for the model to identify whether it is a 5 or not. For this, we will separate only where y_train == 5.</h5>"
   ]
  },
  {
   "cell_type": "code",
   "execution_count": 40,
   "id": "711cc69b-b5d2-4884-8234-4126ebdf9a68",
   "metadata": {},
   "outputs": [],
   "source": [
    "y_train_5 = (y_train==5)"
   ]
  },
  {
   "cell_type": "code",
   "execution_count": 48,
   "id": "e72558f5-ebfb-43d3-9f31-465699c20286",
   "metadata": {},
   "outputs": [
    {
     "data": {
      "text/plain": [
       "array([[False],\n",
       "       [False],\n",
       "       [False],\n",
       "       ...,\n",
       "       [False],\n",
       "       [False],\n",
       "       [False]])"
      ]
     },
     "execution_count": 48,
     "metadata": {},
     "output_type": "execute_result"
    }
   ],
   "source": [
    "y_train_5"
   ]
  },
  {
   "cell_type": "code",
   "execution_count": 50,
   "id": "7163c4fa-266f-4aec-aaa5-b2759c4963a2",
   "metadata": {},
   "outputs": [
    {
     "data": {
      "text/plain": [
       "False    44620\n",
       "True      4380\n",
       "dtype: int64"
      ]
     },
     "execution_count": 50,
     "metadata": {},
     "output_type": "execute_result"
    }
   ],
   "source": [
    "y_train_5 = y_train_5.ravel()\n",
    "pd.Series(y_train_5).value_counts()"
   ]
  },
  {
   "cell_type": "code",
   "execution_count": 51,
   "id": "cfaf9bf7-c186-455b-a26e-c7ae6d70d671",
   "metadata": {},
   "outputs": [
    {
     "data": {
      "text/plain": [
       "SGDClassifier(alpha=0.0001, average=False, class_weight=None,\n",
       "              early_stopping=False, epsilon=0.1, eta0=0.0, fit_intercept=True,\n",
       "              l1_ratio=0.15, learning_rate='optimal', loss='hinge',\n",
       "              max_iter=1000, n_iter_no_change=5, n_jobs=None, penalty='l2',\n",
       "              power_t=0.5, random_state=None, shuffle=True, tol=0.001,\n",
       "              validation_fraction=0.1, verbose=0, warm_start=False)"
      ]
     },
     "execution_count": 51,
     "metadata": {},
     "output_type": "execute_result"
    }
   ],
   "source": [
    "from sklearn.linear_model import SGDClassifier\n",
    "\n",
    "sgd_clf = SGDClassifier()\n",
    "sgd_clf.fit(x_train, y_train_5)"
   ]
  },
  {
   "cell_type": "code",
   "execution_count": 116,
   "id": "5bd0fb09-4fa8-45ef-8b8f-8a1d50301664",
   "metadata": {},
   "outputs": [
    {
     "name": "stdout",
     "output_type": "stream",
     "text": [
      "Class real:  False\n",
      "Predict:  [False]\n"
     ]
    },
    {
     "data": {
      "image/png": "[encoded data removed]",
      "text/plain": [
       "<Figure size 432x288 with 1 Axes>"
      ]
     },
     "metadata": {
      "needs_background": "light"
     },
     "output_type": "display_data"
    }
   ],
   "source": [
    "n = 9\n",
    "\n",
    "plt.imshow(x_train[n].reshape(28, 28), cmap='binary')\n",
    "print(\"Class real: \", y_train_5[n])\n",
    "print(\"Predict: \", sgd_clf.predict([x_train[n]]))"
   ]
  },
  {
   "cell_type": "code",
   "execution_count": 138,
   "id": "d29b589f-6748-4ec7-9584-befbef122268",
   "metadata": {},
   "outputs": [
    {
     "name": "stdout",
     "output_type": "stream",
     "text": [
      "Correct predictions: 45816\n",
      "Wrong predictions: 3184\n",
      "percentage of correct answers: 93.50%\n",
      "Percentage of wrong answers: 6.50%\n"
     ]
    }
   ],
   "source": [
    "#Checking in a simple way how many times the model gets it right and how many times it gets it wrong.\n",
    "\n",
    "correct = 0\n",
    "wrong = 0\n",
    "\n",
    "for n in range(0, len(x_train)):\n",
    "    if y_train_5[n] == sgd_clf.predict([x_train[n]])[0]:\n",
    "        correct += 1\n",
    "    else:\n",
    "        wrong += 1\n",
    "    \n",
    "perc_corret = 100*(correct/(correct+wrong))\n",
    "perc_wrong = 100*(wrong/(correct+wrong))\n",
    "print(\"Correct predictions: \" + str(correct))\n",
    "print(\"Wrong predictions: \" + str(wrong))\n",
    "print(\"percentage of correct answers: {:.2f}%\".format(perc_corret))\n",
    "print(\"Percentage of wrong answers: {:.2f}%\".format(perc_wrong))"
   ]
  },
  {
   "cell_type": "markdown",
   "id": "9c1c15a5-4452-4e00-9098-2c416536f57a",
   "metadata": {},
   "source": [
    "<h3>Validating the model with Cross Validation</h3>"
   ]
  },
  {
   "cell_type": "code",
   "execution_count": 136,
   "id": "4c44742b-10b5-4be5-bd94-189015be2ca2",
   "metadata": {},
   "outputs": [
    {
     "data": {
      "text/plain": [
       "array([0.95885882, 0.96583604, 0.96595849])"
      ]
     },
     "execution_count": 136,
     "metadata": {},
     "output_type": "execute_result"
    }
   ],
   "source": [
    "from sklearn.model_selection import cross_val_score\n",
    "\n",
    "cross_val_score(sgd_clf, x_train,y_train_5, cv=3, scoring='accuracy')"
   ]
  },
  {
   "cell_type": "markdown",
   "id": "2aa39e50-2d94-4a6b-a831-5c08dc502f5f",
   "metadata": {},
   "source": [
    "<h5>The accuracy of this model is not necessarily good, as we have a very small portion of true cases in the data. The distribution of the number 5 within this data is only about 10%, with approximately 90% of the data representing other numbers. So when training the model, we have approximately 90% of the time when the image is not the number 5 that we are trying to identify here.</h5>"
   ]
  },
  {
   "cell_type": "markdown",
   "id": "04aac31e-fbab-467b-8ad9-1e8a5d12733a",
   "metadata": {},
   "source": [
    "<h2>Metrics of classification</h2>\n",
    "\n",
    "<p>The confusion matrix is a table used to evaluate the performance of a classification model. It shows the number of true positives (TP), true negatives (TN), false positives (FP), and false negatives (FN) for each class.</p>\n",
    "\n",
    "<p>Accuracy is a performance measure that indicates the percentage of examples that the model correctly classifies. It is calculated as the ratio of the total number of correctly classified examples to the total number of examples.</p>\n",
    "\n",
    "<p>Recall is a performance measure that indicates the proportion of positive examples that the model correctly classified. It is calculated as the ratio of the number of true positives to the total number of positive examples.</p>\n",
    "\n",
    "<p>F1Score is a performance measure that takes into account both precision and recall of the model. It is calculated as the harmonic mean between precision and recall, and is useful when the classes have unequal sizes or when there is a balance between precision and recall.</p>"
   ]
  },
  {
   "cell_type": "markdown",
   "id": "1c295951-0f0b-47d9-86d4-de51d58450f3",
   "metadata": {},
   "source": [
    "<h4>Confusion Matrix</h4>"
   ]
  },
  {
   "cell_type": "code",
   "execution_count": 139,
   "id": "6d66fcbe-22d1-4713-b121-8ebf26eb25c6",
   "metadata": {},
   "outputs": [],
   "source": [
    "from sklearn.metrics import confusion_matrix"
   ]
  },
  {
   "cell_type": "code",
   "execution_count": 140,
   "id": "259b3c30-e1df-4696-9672-f681a4c15db9",
   "metadata": {},
   "outputs": [
    {
     "data": {
      "text/plain": [
       "array([[41843,  2777],\n",
       "       [  407,  3973]], dtype=int64)"
      ]
     },
     "execution_count": 140,
     "metadata": {},
     "output_type": "execute_result"
    }
   ],
   "source": [
    "confusion_matrix(y_train_5, sgd_clf.predict(x_train))"
   ]
  },
  {
   "cell_type": "markdown",
   "id": "626cead5-cd0c-4b44-a9a7-ffefbc8477eb",
   "metadata": {},
   "source": [
    "<h5>This confusion matrix represents the performance of a binary classification model that aims to predict whether an example belongs to the positive class (1) or the negative class (0).</h5>\n",
    "\n",
    "<h5>The position (1,1) of the matrix represents the number of true negatives (TN), i.e., the amount of examples that were correctly classified as belonging to the negative class (0).</h5>\n",
    "<h5>The position (2,2) of the matrix represents the number of true positives (TP), i.e., the amount of examples that were correctly classified as belonging to the positive class (1).</h5>\n",
    "<h5>The position (1,2) of the matrix represents the number of false positives (FP), i.e., the amount of examples that were incorrectly classified as belonging to the positive class (1), but actually belonged to the negative class (0).</h5>\n",
    "<h5>he position (2,1) of the matrix represents the number of false negatives (FN), i.e., the amount of examples that were incorrectly classified as belonging to the negative class (0), but actually belonged to the positive class (1).</h5>"
   ]
  },
  {
   "cell_type": "markdown",
   "id": "3f0adb3e-af32-437a-8388-456c3dbea507",
   "metadata": {},
   "source": [
    "<h4>Precision Score and Recall Score<h4>"
   ]
  },
  {
   "cell_type": "code",
   "execution_count": 141,
   "id": "1a1801b9-dbdc-4d7e-ab4e-48e40eb69a7e",
   "metadata": {},
   "outputs": [
    {
     "name": "stdout",
     "output_type": "stream",
     "text": [
      "Precision:  0.5885925925925926\n",
      "Recall:  0.9070776255707762\n"
     ]
    }
   ],
   "source": [
    "from sklearn.metrics import precision_score, recall_score\n",
    "\n",
    "y_train_pred = sgd_clf.predict(x_train)\n",
    "print(\"Precision: \", precision_score(y_train_5, y_train_pred))\n",
    "print(\"Recall: \", recall_score(y_train_5, y_train_pred))"
   ]
  },
  {
   "cell_type": "code",
   "execution_count": 142,
   "id": "219cb3e4-73fb-474e-9b44-bee175b86399",
   "metadata": {},
   "outputs": [],
   "source": [
    "from sklearn.metrics import classification_report"
   ]
  },
  {
   "cell_type": "code",
   "execution_count": 147,
   "id": "5f2ada1d-114c-4f8e-9def-43743f943cf2",
   "metadata": {},
   "outputs": [
    {
     "name": "stdout",
     "output_type": "stream",
     "text": [
      "Confusion Matrix: \n",
      " [[41843  2777]\n",
      " [  407  3973]]\n",
      "\n",
      "              precision    recall  f1-score   support\n",
      "\n",
      "       False       0.99      0.94      0.96     44620\n",
      "        True       0.59      0.91      0.71      4380\n",
      "\n",
      "    accuracy                           0.94     49000\n",
      "   macro avg       0.79      0.92      0.84     49000\n",
      "weighted avg       0.95      0.94      0.94     49000\n",
      "\n"
     ]
    }
   ],
   "source": [
    "print(\"Confusion Matrix: \\n\", confusion_matrix(y_train_5, sgd_clf.predict(x_train)))\n",
    "print()\n",
    "print(classification_report(y_train_5, y_train_pred))"
   ]
  },
  {
   "cell_type": "markdown",
   "id": "20337b70-3be3-4b14-a049-38026a7d67f8",
   "metadata": {},
   "source": [
    "<h2>Multiclass Classification Model</h2>\n",
    "\n",
    "<p>A multiclass classification model is a type of machine learning model that aims to classify examples into three or more classes. Unlike binary models that aim to classify examples into two classes, a multiclass model can be used to classify examples into multiple different classes, such as classifying images into different categories like cats, dogs, and birds.</p>"
   ]
  },
  {
   "cell_type": "code",
   "execution_count": 154,
   "id": "3a063392-060a-4434-aa90-37672660be93",
   "metadata": {},
   "outputs": [
    {
     "data": {
      "text/plain": [
       "SGDClassifier(alpha=0.0001, average=False, class_weight=None,\n",
       "              early_stopping=False, epsilon=0.1, eta0=0.0, fit_intercept=True,\n",
       "              l1_ratio=0.15, learning_rate='optimal', loss='hinge',\n",
       "              max_iter=1000, n_iter_no_change=5, n_jobs=None, penalty='l2',\n",
       "              power_t=0.5, random_state=None, shuffle=True, tol=0.001,\n",
       "              validation_fraction=0.1, verbose=0, warm_start=False)"
      ]
     },
     "execution_count": 154,
     "metadata": {},
     "output_type": "execute_result"
    }
   ],
   "source": [
    "#The ravel() method is used to transform a multidimensional array into a one-dimensional array.\n",
    "y_train = y_train.ravel()\n",
    "\n",
    "sgd_clf2 = SGDClassifier()\n",
    "sgd_clf2.fit(x_train, y_train)"
   ]
  },
  {
   "cell_type": "code",
   "execution_count": 163,
   "id": "604d5bf5-3f2b-460c-8a72-bdf72eeafb52",
   "metadata": {},
   "outputs": [
    {
     "name": "stdout",
     "output_type": "stream",
     "text": [
      "Prediction:  [1.]\n"
     ]
    },
    {
     "data": {
      "text/plain": [
       "<matplotlib.image.AxesImage at 0x1f3c3e8e1f0>"
      ]
     },
     "execution_count": 163,
     "metadata": {},
     "output_type": "execute_result"
    },
    {
     "data": {
      "image/png": "[encoded data removed]",
      "text/plain": [
       "<Figure size 432x288 with 1 Axes>"
      ]
     },
     "metadata": {
      "needs_background": "light"
     },
     "output_type": "display_data"
    }
   ],
   "source": [
    "n = 7\n",
    "digit = x_train[n]\n",
    "print(\"Prediction: \", sgd_clf2.predict([digit]))\n",
    "plt.imshow(digit.reshape(28,28), cmap='binary')"
   ]
  },
  {
   "cell_type": "code",
   "execution_count": 164,
   "id": "0c822e7b-8f2f-45a6-97b2-21d6254a80f0",
   "metadata": {},
   "outputs": [],
   "source": [
    "from sklearn.model_selection import cross_val_predict\n",
    "\n",
    "y_train_pred = cross_val_predict(sgd_clf, x_train, y_train, cv=3)"
   ]
  },
  {
   "cell_type": "code",
   "execution_count": 172,
   "id": "e62025a4-9dd8-4415-8919-bacf40f45745",
   "metadata": {},
   "outputs": [
    {
     "name": "stdout",
     "output_type": "stream",
     "text": [
      "Confusion Matrix: \n",
      "\n",
      " [[4620    0   23   13    9   26   20    6   76    7]\n",
      " [   0 5251   64   23   10   25   12   17   92   16]\n",
      " [  42   35 4318   89   50   37   53   81  171   12]\n",
      " [  22   21  245 3907   10  255   18   81  413   85]\n",
      " [  13    9   93    5 4251   39   43   53  129  174]\n",
      " [  60   17   36  189   94 3456   93   28  354   53]\n",
      " [  46   18   78    9   42  103 4421   12   71    0]\n",
      " [  28   15   73   22   76   15    2 4713   32  135]\n",
      " [  40   58  119  114   58  263   18   43 3987   77]\n",
      " [  26   19   46   48  264   86    1  322  218 3838]]\n",
      "\n",
      "              precision    recall  f1-score   support\n",
      "\n",
      "         0.0       0.94      0.96      0.95      4800\n",
      "         1.0       0.96      0.95      0.96      5510\n",
      "         2.0       0.85      0.88      0.87      4888\n",
      "         3.0       0.88      0.77      0.82      5057\n",
      "         4.0       0.87      0.88      0.88      4809\n",
      "         5.0       0.80      0.79      0.80      4380\n",
      "         6.0       0.94      0.92      0.93      4800\n",
      "         7.0       0.88      0.92      0.90      5111\n",
      "         8.0       0.72      0.83      0.77      4777\n",
      "         9.0       0.87      0.79      0.83      4868\n",
      "\n",
      "    accuracy                           0.87     49000\n",
      "   macro avg       0.87      0.87      0.87     49000\n",
      "weighted avg       0.88      0.87      0.87     49000\n",
      "\n"
     ]
    }
   ],
   "source": [
    "conf_mx = confusion_matrix(y_train, y_train_pred)\n",
    "\n",
    "print(\"Confusion Matrix: \\n\\n\", conf_mx)\n",
    "print()\n",
    "print(classification_report(y_train, y_train_pred))"
   ]
  },
  {
   "cell_type": "code",
   "execution_count": 176,
   "id": "db73702a-9e16-410d-b2d4-b41ea8eabcaa",
   "metadata": {},
   "outputs": [
    {
     "data": {
      "image/png": "[encoded data removed]",
      "text/plain": [
       "<Figure size 1800x576 with 2 Axes>"
      ]
     },
     "metadata": {
      "needs_background": "light"
     },
     "output_type": "display_data"
    }
   ],
   "source": [
    "\"\"\"The code creates a figure with a heatmap from the confusion matrix conf_mx.\n",
    "The parameter annot=True causes the values of the matrix to be displayed inside \n",
    "the cells of the heatmap, and the parameter fmt=\".0f\" sets the format of the values\n",
    "as integers without decimal places. The figsize=(25,8) sets the size of the figure to\n",
    "a width of 25 units and a height of 8 units. The seaborn library is used to plot the heatmap.\"\"\"\n",
    "\n",
    "fig, ax = plt.subplots(figsize=(25,8))\n",
    "sns.heatmap(conf_mx, annot=True, fmt=\".0f\");"
   ]
  },
  {
   "cell_type": "markdown",
   "id": "7a2be9b8-9334-4585-958e-f31d55b8617b",
   "metadata": {},
   "source": [
    "<h2>Multilabel Outputs</h2>\n",
    "\n",
    "<p>Multilabel outputs are a type of machine learning model output where an example can be associated with more than one class. Instead of binary or multiclass classification where an example belongs to only one class, multilabel output can have multiple classes assigned to a single example. For instance, in a movie recommendation system, a user may like both action and comedy movies, meaning that these two classes can be assigned to them as a multilabel output. Multilabel classification is more challenging than binary or multiclass classification because it requires predicting multiple classes for each example, increasing the complexity of the model and the need for more data and computational resources.</p>\n",
    "\n",
    "<p>In the following example, we will check if a handwritten number is greater than or equal to 7 and if it is odd.</p>"
   ]
  },
  {
   "cell_type": "code",
   "execution_count": 185,
   "id": "4aed69f1-13cd-49f5-b8dc-88b2c923fda3",
   "metadata": {},
   "outputs": [],
   "source": [
    "from sklearn.neighbors import KNeighborsClassifier\n",
    "\n",
    "y_train_large = (y_train >= 7)\n",
    "y_train_odd = (y_train % 2 == 1)\n",
    "y_multilabel = np.c_[y_train_large, y_train_odd]"
   ]
  },
  {
   "cell_type": "code",
   "execution_count": 186,
   "id": "42ae6203-da41-4cc2-89a0-171ce783dffe",
   "metadata": {},
   "outputs": [
    {
     "data": {
      "text/plain": [
       "array([ True, False,  True, ..., False, False, False])"
      ]
     },
     "execution_count": 186,
     "metadata": {},
     "output_type": "execute_result"
    }
   ],
   "source": [
    "y_train_large"
   ]
  },
  {
   "cell_type": "code",
   "execution_count": 187,
   "id": "05d1931a-e551-4e4b-af2f-aaa90db66b1c",
   "metadata": {},
   "outputs": [
    {
     "data": {
      "text/plain": [
       "array([ True, False,  True, ..., False,  True,  True])"
      ]
     },
     "execution_count": 187,
     "metadata": {},
     "output_type": "execute_result"
    }
   ],
   "source": [
    "y_train_odd"
   ]
  },
  {
   "cell_type": "code",
   "execution_count": 188,
   "id": "40335f0e-543e-41eb-9e0a-906f96bc5edc",
   "metadata": {},
   "outputs": [
    {
     "data": {
      "text/plain": [
       "array([[ True,  True],\n",
       "       [False, False],\n",
       "       [ True,  True],\n",
       "       ...,\n",
       "       [False, False],\n",
       "       [False,  True],\n",
       "       [False,  True]])"
      ]
     },
     "execution_count": 188,
     "metadata": {},
     "output_type": "execute_result"
    }
   ],
   "source": [
    "y_multilabel"
   ]
  },
  {
   "cell_type": "code",
   "execution_count": 189,
   "id": "7c08c0c7-0d4a-4e41-afcd-40c09a653dce",
   "metadata": {},
   "outputs": [
    {
     "data": {
      "text/plain": [
       "KNeighborsClassifier(algorithm='auto', leaf_size=30, metric='minkowski',\n",
       "                     metric_params=None, n_jobs=None, n_neighbors=5, p=2,\n",
       "                     weights='uniform')"
      ]
     },
     "execution_count": 189,
     "metadata": {},
     "output_type": "execute_result"
    }
   ],
   "source": [
    "knn_clf = KNeighborsClassifier()\n",
    "knn_clf.fit(x_train, y_multilabel)"
   ]
  },
  {
   "cell_type": "code",
   "execution_count": 200,
   "id": "56fdb7d7-1035-4d16-b6c3-146de6ac59a3",
   "metadata": {},
   "outputs": [
    {
     "name": "stdout",
     "output_type": "stream",
     "text": [
      "               >= 7 |  Odd\n",
      "Prediction:  [[ True  True]]\n"
     ]
    },
    {
     "data": {
      "text/plain": [
       "<matplotlib.image.AxesImage at 0x1f3c3f756d0>"
      ]
     },
     "execution_count": 200,
     "metadata": {},
     "output_type": "execute_result"
    },
    {
     "data": {
      "image/png": "[encoded data removed]",
      "text/plain": [
       "<Figure size 432x288 with 1 Axes>"
      ]
     },
     "metadata": {
      "needs_background": "light"
     },
     "output_type": "display_data"
    }
   ],
   "source": [
    "n = 11\n",
    "digit = x_train[n]\n",
    "print(\"               >= 7 |  Odd\")\n",
    "print(\"Prediction: \", knn_clf.predict([digit]))\n",
    "plt.imshow(digit.reshape(28,28), cmap='binary')"
   ]
  },
  {
   "cell_type": "code",
   "execution_count": null,
   "id": "2619d729-8336-43f8-8b14-16fbb6eda9f7",
   "metadata": {},
   "outputs": [],
   "source": []
  }
 ],
 "metadata": {
  "kernelspec": {
   "display_name": "Python 3 (ipykernel)",
   "language": "python",
   "name": "python3"
  },
  "language_info": {
   "codemirror_mode": {
    "name": "ipython",
    "version": 3
   },
   "file_extension": ".py",
   "mimetype": "text/x-python",
   "name": "python",
   "nbconvert_exporter": "python",
   "pygments_lexer": "ipython3",
   "version": "3.8.8"
  }
 },
 "nbformat": 4,
 "nbformat_minor": 5
}
